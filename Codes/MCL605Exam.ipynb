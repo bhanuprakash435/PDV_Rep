{
 "cells": [
  {
   "cell_type": "markdown",
   "metadata": {
    "id": "IWo_dG1hE86j"
   },
   "source": [
    "**There are 4 problems. Please read the questions carefully and complete the tasks below. Upload your codes with output using the naming convention \"SudarsanAcharya_MCL605FinalLabExam.ipynb\" to https://tinyurl.com/17ohpzxi**"
   ]
  },
  {
   "cell_type": "code",
   "execution_count": null,
   "metadata": {
    "id": "dO8c1j8QqPou"
   },
   "outputs": [],
   "source": [
    "library(ggplot2)"
   ]
  },
  {
   "cell_type": "markdown",
   "metadata": {
    "id": "W7gWvlfyvMJ7"
   },
   "source": [
    "**Problem-1**: We have a box with $20$ balls in four different colors. Out of the $20$ balls, there are $5$ balls for each color. Balls for each color are numbered from $1$ to $5.$ We pick $4$ balls from the box without replacement. Compute the following probabilities using simulation:\n",
    "1. probability that we get two different colors, two balls each?\n",
    "2. probability that we get four different colors and the sum of the numbers\n",
    "on the balls is equal to $8$?"
   ]
  },
  {
   "cell_type": "code",
   "execution_count": null,
   "metadata": {
    "colab": {
     "base_uri": "https://localhost:8080/"
    },
    "id": "vmCFgYwxwPoK",
    "outputId": "a416ed4e-7a96-4869-d87c-56c9e75901a8"
   },
   "outputs": [
    {
     "name": "stdout",
     "output_type": "stream",
     "text": [
      "Approximate probability of getting 2 different colors, 2 balls each =  0.004 \n",
      "Approximate probability of getting 4 different colors and sum 8 =  0 \n"
     ]
    }
   ],
   "source": [
    "# Sampling space (consider the colors as r, g, b, y and the balls numbered\n",
    "# as 1, 2, 3, 4, 5. So we have r1, g1, b1, y1, r2, g2, b2, y2, etc.)\n",
    "S = paste0(c('r', 'g', 'b', 'y'), c(replicate(4, c(1:5))))\n",
    "\n",
    "# Corresponding probabilites for the outcomes in the sampling space\n",
    "p = (1/length(S)) * replicate(length(S), 1)\n",
    "\n",
    "simulationsize = 1e03\n",
    "\n",
    "simulatedData = replicate(simulationsize,sample(S, size = 4, prob = p))\n",
    "#print(simulatedData) # use a small simulationsize for checking purposes\n",
    "\n",
    "# Function to check if we get two different colors, two balls each\n",
    "checkEvent1 = function(data){\n",
    "  # Extract the first character in the simulated data\n",
    "  colors = substr(data, 1, 1)\n",
    "  #print(colors) # use for checking purposes\n",
    "  unique_colors = unique(colors)\n",
    "  for (val in unique_colors){\n",
    "    if (sum(table(val) == 2) != 2){\n",
    "      return(1)\n",
    "      }   \n",
    "  }\n",
    "  return(0)  \n",
    "}\n",
    "\n",
    "approximate_probability = sum(apply(simulatedData, 1, checkEvent1)) / simulationsize\n",
    "cat('Approximate probability of getting 2 different colors, 2 balls each = ', approximate_probability, '\\n')\n",
    "\n",
    "# Function to check if we get four different colors and sum on the balls is 8\n",
    "checkEvent2 = function(data){\n",
    "  # Extract the first character in the simulated data\n",
    "  colors = substr(data, 1, 1)\n",
    "  unique_colors = unique(colors)\n",
    "  # Extract the second character in the simulated data\n",
    "  numbers = as.numeric(substr(data, 2, 2))\n",
    "  if (table(data) == 4 && sum(data) == 8){\n",
    "      return(1)\n",
    "      }\n",
    "  else{\n",
    "    return(0)\n",
    "      }   \n",
    "  }  \n",
    "approximate_probability = sum(apply(simulatedData, 2, checkEvent2)) / simulationsize\n",
    "cat('Approximate probability of getting 4 different colors and sum 8 = ', approximate_probability, '\\n')\n",
    "\n"
   ]
  },
  {
   "cell_type": "markdown",
   "metadata": {
    "id": "60JgucmRAGyv"
   },
   "source": [
    "**Problem-2**: A machine produces items in batches. For each batch, the machine can be in control or out of control. Suppose the machine is in control for $98\\%$ of the production batches; The production defect rate is $0.05$ when the machine is in control and $0.2$ when the machine is out of control.\n",
    "\n",
    "Suppose we want to update our prior knowledge of the probability that the machine is in-/out-of control. The updated probabilites are called posterior probabilities. To that end, we select a small random sample of $5$ items from a production batch and inspect how many among them are defective, which is represented by the random variable $X.$  Compute the missing entries in the following table:\n",
    "![](https://bl3302files.storage.live.com/y4mak7FXQkOYKK6NgHFgz4yyatR7pkxfh8X9_mEP8QerzWCxC7CtfGnDDq1vvtjZUj59TGJG6guRLQXyM98iOTskbRfL4gftgeF3Lc5beimrZA89Y_1yl0K1By_fNDbm6IHHHumF25i_vHFN69wSYmAuawAIpFx0jFf5zBUGTnsoxyhPRYnzTZ8nPSvrSSDVvQW?width=660&height=186&cropmode=none)\n",
    "\n",
    "Suppose we want to interrupt the production process when we are suspicious that the production process is out of control based on the number of defective items we see in a sample of 5. Let us quantify our suspicion as a $30\\%$ or greater chance. Would you stop production if 3 defective items are observed?\n",
    "\n",
    "**Hint**: Apply Bayes' theorem to $P(\\text{in control}\\,|\\,X =j)$ and identify what kind of a random variables are $P(X = j\\,|\\,\\text{in control})$ and $P(X = j\\,|\\,\\text{out of control}).$ "
   ]
  },
  {
   "cell_type": "code",
   "execution_count": null,
   "metadata": {
    "colab": {
     "base_uri": "https://localhost:8080/"
    },
    "id": "eLd_o9eSAjQz",
    "outputId": "ea910295-0a89-4757-d080-c1735d11c4a8"
   },
   "outputs": [
    {
     "name": "stdout",
     "output_type": "stream",
     "text": [
      "[1] 0\n",
      "[1] 0.9914316\n",
      "[1] 0.008568378\n",
      "[1] 1\n",
      "[1] 0.9605672\n",
      "[1] 0.03943276\n",
      "[1] 2\n",
      "[1] 0.8368237\n",
      "[1] 0.1631763\n",
      "[1] 3\n",
      "[1] 0.5191501\n",
      "[1] 0.4808499\n",
      "[1] 4\n",
      "[1] 0.1851999\n",
      "[1] 0.8148001\n",
      "[1] 5\n",
      "[1] 0.04566636\n",
      "[1] 0.9543336\n"
     ]
    }
   ],
   "source": [
    "n = 5\n",
    "samplesize = c(0:5)\n",
    "p_ic =  0.05 # defect rate when machine is in control\n",
    "p_oc = 0.2 # defect rate when machine is out of control\n",
    "icp = 0.98 # prior in control probability\n",
    "ocp = 1-icp # prior out of control probability\n",
    "for (j in samplesize) {\n",
    "  uicp = icp * dbinom(j, size=n, prob=p_ic) / (icp * dbinom(j, size=n, prob=p_ic) + ocp * dbinom(j, size=n, prob=p_oc)) # posterior in control probability\n",
    "  uocp = ocp * dbinom(j, size=n, prob=p_oc) / (icp * dbinom(j, size=n, prob=p_ic) + ocp * dbinom(j, size=n, prob=p_oc)) # posterior out of control probability\n",
    "  print(j)\n",
    "  print(uicp)\n",
    "  print(uocp)\n",
    "}         "
   ]
  },
  {
   "cell_type": "markdown",
   "metadata": {
    "id": "olaF3nNCzN3_"
   },
   "source": [
    "**No, we will continue the production as the suspicion is 30% which is less. **"
   ]
  },
  {
   "cell_type": "markdown",
   "metadata": {
    "id": "deGk368cqtbV"
   },
   "source": [
    "**Problem-3**: A man claims to have extrasensory perception (ESP). As a test, a fair coin is flipped $10$ times and the man is asked to predict the outcome in advance. He gets $7$ out of $10$ correct. What is the probability that he would have done *at least* this well if he had no ESP?\n",
    "\n",
    "**Hint**: If he had no ESP, what would be the probability of success, i.e. guessing an outcome? You can treat the number of correct guesses if he had no ESP as an appropriate discrete random variable $X.$"
   ]
  },
  {
   "cell_type": "code",
   "execution_count": null,
   "metadata": {
    "colab": {
     "base_uri": "https://localhost:8080/",
     "height": 34
    },
    "id": "LgrAX0wLq--s",
    "outputId": "6e138389-f024-4f05-8859-40d5a6b67c73"
   },
   "outputs": [
    {
     "data": {
      "text/html": [
       "0.171875"
      ],
      "text/latex": [
       "0.171875"
      ],
      "text/markdown": [
       "0.171875"
      ],
      "text/plain": [
       "[1] 0.171875"
      ]
     },
     "metadata": {
      "tags": []
     },
     "output_type": "display_data"
    }
   ],
   "source": [
    "n = 10\n",
    "p = 0.5\n",
    "j = c(7:10)\n",
    "sum(dbinom(j, n, p))"
   ]
  },
  {
   "cell_type": "markdown",
   "metadata": {
    "id": "25HoF9cCYgh-"
   },
   "source": [
    "**Problem-4**: Suppose a random number of $K$ customers shop at a supermarket in a day. Let $X_1,X_2,\\ldots,X_K$ represent the random number of items purchased independently by the $1$st, $2$nd, $\\ldots,$ $K$th customer. The total number of items sold in a day is a random number $Y$ such that: $$ Y = X_1+X_2+\\cdots+X_K.$$ Suppose that $30$ customers visit the supermarket on an average per day and that each customer buys on an average 3 items.\n",
    "\n",
    "If you are the supermarket owner and want to increase the *expected* total number of items sold in a day. You have two options: (a) increase the *expected* number of customers by $10\\%$ by spending on external advertisement (b) increase the *expected* number of items purchased by each cutomer by $10\\%$ by spending on internal (in-shop) advertisement. \n",
    "1. Do both options result in an increase in the expected total number of items sold in a day? **Hint**: use simulation, and recall what is the expected value of a Poisson random variable.\n",
    "2. Which option results in the greatest increase in the expected total number of items sold in a day?\n",
    "3. Which option is least risky? **Hint**: standard deviation"
   ]
  },
  {
   "cell_type": "code",
   "execution_count": null,
   "metadata": {
    "id": "9rZhoE2pfQKr"
   },
   "outputs": [],
   "source": [
    "simulationsize =1e04\n",
    "K = 30\n",
    "\n",
    "for (i in 1:length(simulationsize)){\n",
    "  if ( ?!= 0){\n",
    "    Y[i] = \n",
    "      }\n",
    "    }\n",
    "\n",
    "# Expected number of items sold in a day\n",
    "mean(?)\n",
    "\n",
    "# Standard deviation of items sold in a day\n",
    "stdev(?)"
   ]
  },
  {
   "cell_type": "code",
   "execution_count": null,
   "metadata": {
    "id": "Reo3PFD842ec"
   },
   "outputs": [],
   "source": []
  }
 ],
 "metadata": {
  "colab": {
   "collapsed_sections": [],
   "name": "GaneshGSrinivas_MCL605LabFinalExam.ipynb",
   "provenance": []
  },
  "kernelspec": {
   "display_name": "R",
   "language": "R",
   "name": "ir"
  },
  "language_info": {
   "codemirror_mode": "r",
   "file_extension": ".r",
   "mimetype": "text/x-r-source",
   "name": "R",
   "pygments_lexer": "r",
   "version": "3.6.1"
  }
 },
 "nbformat": 4,
 "nbformat_minor": 1
}
